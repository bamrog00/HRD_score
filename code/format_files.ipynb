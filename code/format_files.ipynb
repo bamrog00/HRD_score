{
 "cells": [
  {
   "cell_type": "code",
   "execution_count": 1,
   "id": "dfe01c50",
   "metadata": {},
   "outputs": [],
   "source": [
    "import pandas as pd\n",
    "import glob\n",
    "import os"
   ]
  },
  {
   "cell_type": "code",
   "execution_count": 2,
   "id": "fedcc4af",
   "metadata": {},
   "outputs": [],
   "source": [
    "path_to_files = '../data/allele_specific_cnv/allele_cnv_txt/'\n",
    "path_to_formated_folder = '../data/allele_specific_cnv/formatted_asc_files'"
   ]
  },
  {
   "cell_type": "code",
   "execution_count": 3,
   "id": "be4a6c89",
   "metadata": {},
   "outputs": [],
   "source": [
    "# Get all the files\n",
    "files = glob.glob('../data/allele_specific_cnv/allele_cnv_txt/*.seg.txt')\n",
    "files = [os.path.basename(file) for file in files]"
   ]
  },
  {
   "cell_type": "code",
   "execution_count": 4,
   "id": "463f6380",
   "metadata": {},
   "outputs": [],
   "source": [
    "# Check if a formatted folder exist, if not create it\n",
    "if not os.path.exists(path_to_formated_folder):\n",
    "    os.mkdir(path_to_formated_folder)"
   ]
  },
  {
   "cell_type": "code",
   "execution_count": 5,
   "id": "2497c0fa",
   "metadata": {},
   "outputs": [
    {
     "name": "stdout",
     "output_type": "stream",
     "text": [
      "0 files are formatted\n",
      "500 files are formatted\n",
      "1000 files are formatted\n",
      "1500 files are formatted\n",
      "2000 files are formatted\n",
      "2500 files are formatted\n",
      "3000 files are formatted\n",
      "3500 files are formatted\n",
      "4000 files are formatted\n",
      "4500 files are formatted\n",
      "5000 files are formatted\n",
      "5500 files are formatted\n",
      "6000 files are formatted\n",
      "6500 files are formatted\n",
      "7000 files are formatted\n",
      "7500 files are formatted\n",
      "8000 files are formatted\n",
      "8500 files are formatted\n",
      "9000 files are formatted\n",
      "9500 files are formatted\n",
      "10000 files are formatted\n",
      "10500 files are formatted\n",
      "11000 files are formatted\n",
      "11500 files are formatted\n"
     ]
    }
   ],
   "source": [
    "# Add ploidy to each file as this was missing for HRDscar\n",
    "# At the time of documentation, ploidy was not factored in\n",
    "for i,file in enumerate(files):\n",
    "    df = pd.read_csv(path_to_files+file, sep='\\t', header = 0)\n",
    "    df['ploidy'] = \"\"\n",
    "    #df['ploidy'] = 3.7\n",
    "    df.to_csv(path_to_formated_folder+'/'+file, header = True, sep = '\\t', index = None)\n",
    "    if i%500 == 0:\n",
    "        print(str(i) + ' files are formatted')"
   ]
  }
 ],
 "metadata": {
  "kernelspec": {
   "display_name": "Python 3 (ipykernel)",
   "language": "python",
   "name": "python3"
  },
  "language_info": {
   "codemirror_mode": {
    "name": "ipython",
    "version": 3
   },
   "file_extension": ".py",
   "mimetype": "text/x-python",
   "name": "python",
   "nbconvert_exporter": "python",
   "pygments_lexer": "ipython3",
   "version": "3.9.12"
  }
 },
 "nbformat": 4,
 "nbformat_minor": 5
}
