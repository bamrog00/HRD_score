{
 "cells": [
  {
   "cell_type": "code",
   "execution_count": 1,
   "id": "5188d51b",
   "metadata": {},
   "outputs": [],
   "source": [
    "import pandas as pd\n",
    "import os\n",
    "import glob\n",
    "import numpy as np"
   ]
  },
  {
   "cell_type": "code",
   "execution_count": 2,
   "id": "c40150c9",
   "metadata": {
    "scrolled": true
   },
   "outputs": [
    {
     "name": "stderr",
     "output_type": "stream",
     "text": [
      "/tmp/ipykernel_87974/2855818343.py:5: DtypeWarning: Columns (3,48) have mixed types. Specify dtype option on import or set low_memory=False.\n",
      "  clinical =  pd.read_csv('../data/metadata/clinical.csv', sep=',', header = 0)\n"
     ]
    }
   ],
   "source": [
    "annotated = pd.read_csv('../data/HRD_scores_pan_cancer_annotated_typecorrect.csv', sep=',', header = 0)\n",
    "annotated_v2 = pd.read_csv('../data/HRD_scores_pan_cancer_annotated_v2.csv', sep=',', header = 0)\n",
    "annotated_v2 = annotated_v2[annotated_v2['Type'] != 'Normal']\n",
    "sample_sheet = pd.read_csv('../data/metadata/gdc_samplesheet.csv', sep=',', header = 0)\n",
    "clinical =  pd.read_csv('../data/metadata/clinical.csv', sep=',', header = 0)"
   ]
  },
  {
   "cell_type": "markdown",
   "id": "684948b3",
   "metadata": {},
   "source": [
    "# Extract data sizes\n",
    "Such as: Number of total cases, number per cancer type, number of primary type per cancer type"
   ]
  },
  {
   "cell_type": "code",
   "execution_count": 4,
   "id": "6738bb52",
   "metadata": {
    "scrolled": true
   },
   "outputs": [
    {
     "name": "stdout",
     "output_type": "stream",
     "text": [
      "Total number of cases is: 11582\n",
      "\n",
      "\n"
     ]
    },
    {
     "ename": "KeyError",
     "evalue": "'Study Name'",
     "output_type": "error",
     "traceback": [
      "\u001b[0;31m---------------------------------------------------------------------------\u001b[0m",
      "\u001b[0;31mKeyError\u001b[0m                                  Traceback (most recent call last)",
      "File \u001b[0;32m/home/USZ/plialacc/Storage/anaconda3/lib/python3.9/site-packages/pandas/core/indexes/base.py:3621\u001b[0m, in \u001b[0;36mIndex.get_loc\u001b[0;34m(self, key, method, tolerance)\u001b[0m\n\u001b[1;32m   3620\u001b[0m \u001b[38;5;28;01mtry\u001b[39;00m:\n\u001b[0;32m-> 3621\u001b[0m     \u001b[38;5;28;01mreturn\u001b[39;00m \u001b[38;5;28;43mself\u001b[39;49m\u001b[38;5;241;43m.\u001b[39;49m\u001b[43m_engine\u001b[49m\u001b[38;5;241;43m.\u001b[39;49m\u001b[43mget_loc\u001b[49m\u001b[43m(\u001b[49m\u001b[43mcasted_key\u001b[49m\u001b[43m)\u001b[49m\n\u001b[1;32m   3622\u001b[0m \u001b[38;5;28;01mexcept\u001b[39;00m \u001b[38;5;167;01mKeyError\u001b[39;00m \u001b[38;5;28;01mas\u001b[39;00m err:\n",
      "File \u001b[0;32m/home/USZ/plialacc/Storage/anaconda3/lib/python3.9/site-packages/pandas/_libs/index.pyx:136\u001b[0m, in \u001b[0;36mpandas._libs.index.IndexEngine.get_loc\u001b[0;34m()\u001b[0m\n",
      "File \u001b[0;32m/home/USZ/plialacc/Storage/anaconda3/lib/python3.9/site-packages/pandas/_libs/index.pyx:163\u001b[0m, in \u001b[0;36mpandas._libs.index.IndexEngine.get_loc\u001b[0;34m()\u001b[0m\n",
      "File \u001b[0;32mpandas/_libs/hashtable_class_helper.pxi:5198\u001b[0m, in \u001b[0;36mpandas._libs.hashtable.PyObjectHashTable.get_item\u001b[0;34m()\u001b[0m\n",
      "File \u001b[0;32mpandas/_libs/hashtable_class_helper.pxi:5206\u001b[0m, in \u001b[0;36mpandas._libs.hashtable.PyObjectHashTable.get_item\u001b[0;34m()\u001b[0m\n",
      "\u001b[0;31mKeyError\u001b[0m: 'Study Name'",
      "\nThe above exception was the direct cause of the following exception:\n",
      "\u001b[0;31mKeyError\u001b[0m                                  Traceback (most recent call last)",
      "Input \u001b[0;32mIn [4]\u001b[0m, in \u001b[0;36m<cell line: 8>\u001b[0;34m()\u001b[0m\n\u001b[1;32m      4\u001b[0m \u001b[38;5;28mprint\u001b[39m(\u001b[38;5;124m'\u001b[39m\u001b[38;5;124mTotal number of cases is: \u001b[39m\u001b[38;5;124m'\u001b[39m \u001b[38;5;241m+\u001b[39m \u001b[38;5;28mstr\u001b[39m(number_total_cases))\n\u001b[1;32m      6\u001b[0m \u001b[38;5;28mprint\u001b[39m(\u001b[38;5;124m'\u001b[39m\u001b[38;5;130;01m\\n\u001b[39;00m\u001b[38;5;124m'\u001b[39m)\n\u001b[0;32m----> 8\u001b[0m \u001b[38;5;28mprint\u001b[39m(\u001b[38;5;124m'\u001b[39m\u001b[38;5;124mNumber of different cancer types: \u001b[39m\u001b[38;5;124m'\u001b[39m \u001b[38;5;241m+\u001b[39m \u001b[38;5;28mstr\u001b[39m(\u001b[38;5;28mlen\u001b[39m(\u001b[43mannotated\u001b[49m\u001b[43m[\u001b[49m\u001b[38;5;124;43m'\u001b[39;49m\u001b[38;5;124;43mStudy Name\u001b[39;49m\u001b[38;5;124;43m'\u001b[39;49m\u001b[43m]\u001b[49m\u001b[38;5;241m.\u001b[39munique())))\n\u001b[1;32m     10\u001b[0m \u001b[38;5;28mprint\u001b[39m(\u001b[38;5;124m'\u001b[39m\u001b[38;5;130;01m\\n\u001b[39;00m\u001b[38;5;124m'\u001b[39m)\n\u001b[1;32m     12\u001b[0m \u001b[38;5;28mprint\u001b[39m(\u001b[38;5;124m'\u001b[39m\u001b[38;5;124mNumber of cases per cancer:\u001b[39m\u001b[38;5;124m'\u001b[39m)\n",
      "File \u001b[0;32m/home/USZ/plialacc/Storage/anaconda3/lib/python3.9/site-packages/pandas/core/frame.py:3505\u001b[0m, in \u001b[0;36mDataFrame.__getitem__\u001b[0;34m(self, key)\u001b[0m\n\u001b[1;32m   3503\u001b[0m \u001b[38;5;28;01mif\u001b[39;00m \u001b[38;5;28mself\u001b[39m\u001b[38;5;241m.\u001b[39mcolumns\u001b[38;5;241m.\u001b[39mnlevels \u001b[38;5;241m>\u001b[39m \u001b[38;5;241m1\u001b[39m:\n\u001b[1;32m   3504\u001b[0m     \u001b[38;5;28;01mreturn\u001b[39;00m \u001b[38;5;28mself\u001b[39m\u001b[38;5;241m.\u001b[39m_getitem_multilevel(key)\n\u001b[0;32m-> 3505\u001b[0m indexer \u001b[38;5;241m=\u001b[39m \u001b[38;5;28;43mself\u001b[39;49m\u001b[38;5;241;43m.\u001b[39;49m\u001b[43mcolumns\u001b[49m\u001b[38;5;241;43m.\u001b[39;49m\u001b[43mget_loc\u001b[49m\u001b[43m(\u001b[49m\u001b[43mkey\u001b[49m\u001b[43m)\u001b[49m\n\u001b[1;32m   3506\u001b[0m \u001b[38;5;28;01mif\u001b[39;00m is_integer(indexer):\n\u001b[1;32m   3507\u001b[0m     indexer \u001b[38;5;241m=\u001b[39m [indexer]\n",
      "File \u001b[0;32m/home/USZ/plialacc/Storage/anaconda3/lib/python3.9/site-packages/pandas/core/indexes/base.py:3623\u001b[0m, in \u001b[0;36mIndex.get_loc\u001b[0;34m(self, key, method, tolerance)\u001b[0m\n\u001b[1;32m   3621\u001b[0m     \u001b[38;5;28;01mreturn\u001b[39;00m \u001b[38;5;28mself\u001b[39m\u001b[38;5;241m.\u001b[39m_engine\u001b[38;5;241m.\u001b[39mget_loc(casted_key)\n\u001b[1;32m   3622\u001b[0m \u001b[38;5;28;01mexcept\u001b[39;00m \u001b[38;5;167;01mKeyError\u001b[39;00m \u001b[38;5;28;01mas\u001b[39;00m err:\n\u001b[0;32m-> 3623\u001b[0m     \u001b[38;5;28;01mraise\u001b[39;00m \u001b[38;5;167;01mKeyError\u001b[39;00m(key) \u001b[38;5;28;01mfrom\u001b[39;00m \u001b[38;5;21;01merr\u001b[39;00m\n\u001b[1;32m   3624\u001b[0m \u001b[38;5;28;01mexcept\u001b[39;00m \u001b[38;5;167;01mTypeError\u001b[39;00m:\n\u001b[1;32m   3625\u001b[0m     \u001b[38;5;66;03m# If we have a listlike key, _check_indexing_error will raise\u001b[39;00m\n\u001b[1;32m   3626\u001b[0m     \u001b[38;5;66;03m#  InvalidIndexError. Otherwise we fall through and re-raise\u001b[39;00m\n\u001b[1;32m   3627\u001b[0m     \u001b[38;5;66;03m#  the TypeError.\u001b[39;00m\n\u001b[1;32m   3628\u001b[0m     \u001b[38;5;28mself\u001b[39m\u001b[38;5;241m.\u001b[39m_check_indexing_error(key)\n",
      "\u001b[0;31mKeyError\u001b[0m: 'Study Name'"
     ]
    }
   ],
   "source": [
    "\n",
    "number_total_cases = len(sample_sheet)\n",
    "\n",
    "print('Total number of cases is: ' + str(number_total_cases))\n",
    "\n",
    "print('\\n')\n",
    "\n",
    "print('Number of different cancer types: ' + str(len(annotated['Study Name'].unique())))\n",
    "\n",
    "print('\\n')\n",
    "\n",
    "print('Number of cases per cancer:')\n",
    "for cancer in annotated['Study Name'].unique():\n",
    "    print(cancer + ': ' + str(annotated[annotated['Study Name'] == cancer]['Study Name'].count()))\n",
    "\n",
    "print('\\n')\n",
    "\n",
    "for proId in annotated['Project ID'].unique():\n",
    "    print(proId + ': ' + str(annotated[annotated['Project ID'] == proId]['Project ID'].count()))\n",
    "\n",
    "print('\\n')\n",
    "\n",
    "print('Number of cases per Type')\n",
    "for typ in annotated['Type'].unique():\n",
    "    print(typ + ': ' + str(annotated[annotated['Type'] == typ]['Type'].count()))\n",
    "\n",
    "    print('\\n')\n"
   ]
  },
  {
   "cell_type": "code",
   "execution_count": 5,
   "id": "0013fa3f",
   "metadata": {},
   "outputs": [
    {
     "name": "stdout",
     "output_type": "stream",
     "text": [
      "Total number of cases is: 11194\n",
      "\n",
      "\n",
      "Number of different cancer types: 37\n",
      "\n",
      "\n",
      "Number of cases per cancer:\n",
      "TARGET-ALL-P2: 294\n",
      "TARGET-AML: 92\n",
      "TARGET-CCSK: 11\n",
      "TARGET-OS: 81\n",
      "TCGA-ACC: 90\n",
      "TCGA-BLCA: 392\n",
      "TCGA-BRCA: 1080\n",
      "TCGA-CESC: 301\n",
      "TCGA-CHOL: 36\n",
      "TCGA-COAD: 429\n",
      "TCGA-DLBC: 48\n",
      "TCGA-ESCA: 184\n",
      "TCGA-GBM: 512\n",
      "TCGA-HNSC: 517\n",
      "TCGA-KICH: 66\n",
      "TCGA-KIRC: 470\n",
      "TCGA-KIRP: 270\n",
      "TCGA-LAML: 190\n",
      "TCGA-LGG: 527\n",
      "TCGA-LIHC: 371\n",
      "TCGA-LUAD: 500\n",
      "TCGA-LUSC: 472\n",
      "TCGA-MESO: 86\n",
      "TCGA-OV: 565\n",
      "TCGA-PAAD: 182\n",
      "TCGA-PCPG: 167\n",
      "TCGA-PRAD: 491\n",
      "TCGA-READ: 164\n",
      "TCGA-SARC: 248\n",
      "TCGA-SKCM: 468\n",
      "TCGA-STAD: 436\n",
      "TCGA-TGCT: 156\n",
      "TCGA-THCA: 505\n",
      "TCGA-THYM: 123\n",
      "TCGA-UCEC: 537\n",
      "TCGA-UCS: 53\n",
      "TCGA-UVM: 80\n",
      "\n",
      "\n",
      "TARGET-ALL-P2: 294\n",
      "TARGET-AML: 92\n",
      "TARGET-CCSK: 11\n",
      "TARGET-OS: 81\n",
      "TCGA-ACC: 90\n",
      "TCGA-BLCA: 392\n",
      "TCGA-BRCA: 1080\n",
      "TCGA-CESC: 301\n",
      "TCGA-CHOL: 36\n",
      "TCGA-COAD: 429\n",
      "TCGA-DLBC: 48\n",
      "TCGA-ESCA: 184\n",
      "TCGA-GBM: 512\n",
      "TCGA-HNSC: 517\n",
      "TCGA-KICH: 66\n",
      "TCGA-KIRC: 470\n",
      "TCGA-KIRP: 270\n",
      "TCGA-LAML: 190\n",
      "TCGA-LGG: 527\n",
      "TCGA-LIHC: 371\n",
      "TCGA-LUAD: 500\n",
      "TCGA-LUSC: 472\n",
      "TCGA-MESO: 86\n",
      "TCGA-OV: 565\n",
      "TCGA-PAAD: 182\n",
      "TCGA-PCPG: 167\n",
      "TCGA-PRAD: 491\n",
      "TCGA-READ: 164\n",
      "TCGA-SARC: 248\n",
      "TCGA-SKCM: 468\n",
      "TCGA-STAD: 436\n",
      "TCGA-TGCT: 156\n",
      "TCGA-THCA: 505\n",
      "TCGA-THYM: 123\n",
      "TCGA-UCEC: 537\n",
      "TCGA-UCS: 53\n",
      "TCGA-UVM: 80\n",
      "\n",
      "\n",
      "Number of cases per Type\n",
      "Primary: 10729\n",
      "\n",
      "\n",
      "Recurrent: 74\n",
      "\n",
      "\n",
      "Metastatic: 391\n",
      "\n",
      "\n"
     ]
    }
   ],
   "source": [
    "number_total_cases = len(sample_sheet)\n",
    "\n",
    "print('Total number of cases is: ' + str(annotated_v2.shape[0]))\n",
    "\n",
    "print('\\n')\n",
    "\n",
    "print('Number of different cancer types: ' + str(len(annotated_v2['Project ID'].unique())))\n",
    "\n",
    "print('\\n')\n",
    "\n",
    "print('Number of cases per cancer:')\n",
    "for cancer in annotated_v2['Project ID'].unique():\n",
    "    print(cancer + ': ' + str(annotated_v2[annotated_v2['Project ID'] == cancer]['Project ID'].count()))\n",
    "\n",
    "print('\\n')\n",
    "\n",
    "for proId in annotated_v2['Project ID'].unique():\n",
    "    print(proId + ': ' + str(annotated_v2[annotated_v2['Project ID'] == proId]['Project ID'].count()))\n",
    "\n",
    "print('\\n')\n",
    "\n",
    "print('Number of cases per Type')\n",
    "for typ in annotated_v2['Type'].unique():\n",
    "    print(typ + ': ' + str(annotated_v2[annotated_v2['Type'] == typ]['Type'].count()))\n",
    "\n",
    "    print('\\n')\n"
   ]
  }
 ],
 "metadata": {
  "kernelspec": {
   "display_name": "Python 3 (ipykernel)",
   "language": "python",
   "name": "python3"
  },
  "language_info": {
   "codemirror_mode": {
    "name": "ipython",
    "version": 3
   },
   "file_extension": ".py",
   "mimetype": "text/x-python",
   "name": "python",
   "nbconvert_exporter": "python",
   "pygments_lexer": "ipython3",
   "version": "3.9.12"
  }
 },
 "nbformat": 4,
 "nbformat_minor": 5
}
