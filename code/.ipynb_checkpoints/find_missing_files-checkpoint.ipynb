{
 "cells": [
  {
   "cell_type": "code",
   "execution_count": 1,
   "id": "a7955122",
   "metadata": {},
   "outputs": [],
   "source": [
    "import pandas as pd\n",
    "from pathlib import Path\n",
    "import glob\n",
    "import os"
   ]
  },
  {
   "cell_type": "code",
   "execution_count": 2,
   "id": "e5474629",
   "metadata": {},
   "outputs": [],
   "source": [
    "# Get the names of all downladed files\n",
    "files = glob.glob('../data/allele_specific_cnv/allele_cnv_txt/*.seg.txt')\n",
    "files = [os.path.basename(file) for file in files]"
   ]
  },
  {
   "cell_type": "code",
   "execution_count": 6,
   "id": "eca68b35",
   "metadata": {
    "scrolled": true
   },
   "outputs": [
    {
     "name": "stdout",
     "output_type": "stream",
     "text": [
      "Number of files in the original manifest: 11582\n",
      "Number of files downloaded (first batch): 10165\n",
      "Number of files in the folder: 11582\n",
      "Number of files missing: 0\n"
     ]
    }
   ],
   "source": [
    "manifest_file = 'gdc_manifest_allelic_specific_cnv.2023-02-17.txt'\n",
    "downloaded_files = 'downloaded_files.txt'\n",
    "\n",
    "df_manifest = pd.read_csv('../data/'+manifest_file, sep='\\t', header = 0)\n",
    "df_downloads = pd.read_csv('../data/'+downloaded_files,sep=' ', header = 0)\n",
    "\n",
    "print('Number of files in the original manifest: '+ str(len(df_manifest)))\n",
    "print('Number of files downloaded (first batch): '+ str(len(df_downloads)))\n",
    "\n",
    "# Check which files from the manifest are not in the folder\n",
    "df_missing = df_manifest[~df_manifest['filename'].isin(files)]\n",
    "\n",
    "print('Number of files in the folder: '+ str(len(files)))\n",
    "\n",
    "print('Number of files missing: '+ str(len(df_missing)))"
   ]
  },
  {
   "cell_type": "code",
   "execution_count": 4,
   "id": "0a1f3d7c",
   "metadata": {},
   "outputs": [],
   "source": [
    "# Save the manifest for downloading the missing files\n",
    "date = '2023-02-22'\n",
    "df_missing.to_csv('../data/gdc_manifest_allelic_specific_cnv.'+date+'.txt', header = True, sep = '\\t', index = None)"
   ]
  }
 ],
 "metadata": {
  "kernelspec": {
   "display_name": "Python 3 (ipykernel)",
   "language": "python",
   "name": "python3"
  },
  "language_info": {
   "codemirror_mode": {
    "name": "ipython",
    "version": 3
   },
   "file_extension": ".py",
   "mimetype": "text/x-python",
   "name": "python",
   "nbconvert_exporter": "python",
   "pygments_lexer": "ipython3",
   "version": "3.9.12"
  }
 },
 "nbformat": 4,
 "nbformat_minor": 5
}
