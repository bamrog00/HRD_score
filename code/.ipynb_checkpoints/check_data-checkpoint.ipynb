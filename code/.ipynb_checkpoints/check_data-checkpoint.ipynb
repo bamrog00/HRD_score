{
 "cells": [
  {
   "cell_type": "code",
   "execution_count": 1,
   "id": "5188d51b",
   "metadata": {},
   "outputs": [],
   "source": [
    "import pandas as pd\n",
    "import os\n",
    "import glob\n",
    "import numpy as np"
   ]
  },
  {
   "cell_type": "code",
   "execution_count": 2,
   "id": "c40150c9",
   "metadata": {
    "scrolled": true
   },
   "outputs": [
    {
     "name": "stderr",
     "output_type": "stream",
     "text": [
      "/tmp/ipykernel_38787/3662348500.py:3: DtypeWarning: Columns (3,48) have mixed types. Specify dtype option on import or set low_memory=False.\n",
      "  clinical =  pd.read_csv('../data/metadata/clinical.csv', sep=',', header = 0)\n"
     ]
    }
   ],
   "source": [
    "annotated = pd.read_csv('../data/HRD_scores_pan_cancer_annotated_typecorrect.csv', sep=',', header = 0)\n",
    "sample_sheet = pd.read_csv('../data/metadata/gdc_samplesheet.csv', sep=',', header = 0)\n",
    "clinical =  pd.read_csv('../data/metadata/clinical.csv', sep=',', header = 0)"
   ]
  },
  {
   "cell_type": "markdown",
   "id": "684948b3",
   "metadata": {},
   "source": [
    "# Extract data sizes\n",
    "Such as: Number of total cases, number per cancer type, number of primary type per cancer type"
   ]
  },
  {
   "cell_type": "code",
   "execution_count": 3,
   "id": "6738bb52",
   "metadata": {
    "scrolled": true
   },
   "outputs": [
    {
     "name": "stdout",
     "output_type": "stream",
     "text": [
      "Total number of cases is: 11582\n",
      "\n",
      "\n",
      "Number of different cancer types: 36\n",
      "\n",
      "\n",
      "Number of cases per cancer:\n",
      "Acute Lymphoblastic Leukemia - Phase II: 294\n",
      "Acute Myeloid Leukemia: 282\n",
      "Clear Cell Sarcoma of the Kidney: 11\n",
      "Osteosarcoma: 81\n",
      "Adrenocortical carcinoma: 90\n",
      "Bladder Urothelial Carcinoma: 396\n",
      "Breast invasive carcinoma: 1084\n",
      "Cervical squamous cell carcinoma and endocervical adenocarcinoma: 301\n",
      "Cholangiocarcinoma: 36\n",
      "Colon adenocarcinoma: 509\n",
      "Lymphoid Neoplasm Diffuse Large B-cell Lymphoma: 48\n",
      "Esophageal carcinoma : 184\n",
      "Glioblastoma multiforme: 542\n",
      "Head and Neck squamous cell carcinoma: 521\n",
      "Kidney Chromophobe: 66\n",
      "Kidney renal clear cell carcinoma: 574\n",
      "Kidney renal papillary cell carcinoma: 298\n",
      "Brain Lower Grade Glioma: 527\n",
      "Liver hepatocellular carcinoma: 373\n",
      "Lung adenocarcinoma: 544\n",
      "Lung squamous cell carcinoma: 514\n",
      "Mesothelioma: 86\n",
      "Ovarian serous cystadenocarcinoma: 589\n",
      "Pancreatic adenocarcinoma: 182\n",
      "Pheochromocytoma and Paraganglioma: 167\n",
      "Prostate adenocarcinoma: 491\n",
      "Rectum adenocarcinoma: 172\n",
      "Sarcoma: 254\n",
      "Skin Cutaneous Melanoma: 468\n",
      "Stomach adenocarcinoma: 436\n",
      "Testicular Germ Cell Tumors: 156\n",
      "Thyroid carcinoma: 505\n",
      "Thymoma: 123\n",
      "Uterine Corpus Endometrial Carcinoma: 545\n",
      "Uterine Carcinosarcoma: 53\n",
      "Uveal Melanoma: 80\n",
      "\n",
      "\n",
      "TARGET-ALL-P2: 294\n",
      "TARGET-AML: 92\n",
      "TARGET-CCSK: 11\n",
      "TARGET-OS: 81\n",
      "TCGA-ACC: 90\n",
      "TCGA-BLCA: 396\n",
      "TCGA-BRCA: 1084\n",
      "TCGA-CESC: 301\n",
      "TCGA-CHOL: 36\n",
      "TCGA-COAD: 509\n",
      "TCGA-DLBC: 48\n",
      "TCGA-ESCA: 184\n",
      "TCGA-GBM: 542\n",
      "TCGA-HNSC: 521\n",
      "TCGA-KICH: 66\n",
      "TCGA-KIRC: 574\n",
      "TCGA-KIRP: 298\n",
      "TCGA-LAML: 190\n",
      "TCGA-LGG: 527\n",
      "TCGA-LIHC: 373\n",
      "TCGA-LUAD: 544\n",
      "TCGA-LUSC: 514\n",
      "TCGA-MESO: 86\n",
      "TCGA-OV: 589\n",
      "TCGA-PAAD: 182\n",
      "TCGA-PCPG: 167\n",
      "TCGA-PRAD: 491\n",
      "TCGA-READ: 172\n",
      "TCGA-SARC: 254\n",
      "TCGA-SKCM: 468\n",
      "TCGA-STAD: 436\n",
      "TCGA-TGCT: 156\n",
      "TCGA-THCA: 505\n",
      "TCGA-THYM: 123\n",
      "TCGA-UCEC: 545\n",
      "TCGA-UCS: 53\n",
      "TCGA-UVM: 80\n",
      "\n",
      "\n",
      "Number of cases per Type\n",
      "Primary: 11099\n",
      "\n",
      "\n",
      "Recurrent: 92\n",
      "\n",
      "\n",
      "Metastatic: 391\n",
      "\n",
      "\n"
     ]
    }
   ],
   "source": [
    "\n",
    "number_total_cases = len(sample_sheet)\n",
    "\n",
    "print('Total number of cases is: ' + str(number_total_cases))\n",
    "\n",
    "print('\\n')\n",
    "\n",
    "print('Number of different cancer types: ' + str(len(annotated['Study Name'].unique())))\n",
    "\n",
    "print('\\n')\n",
    "\n",
    "print('Number of cases per cancer:')\n",
    "for cancer in annotated['Study Name'].unique():\n",
    "    print(cancer + ': ' + str(annotated[annotated['Study Name'] == cancer]['Study Name'].count()))\n",
    "\n",
    "print('\\n')\n",
    "\n",
    "for proId in annotated['Project ID'].unique():\n",
    "    print(proId + ': ' + str(annotated[annotated['Project ID'] == proId]['Project ID'].count()))\n",
    "\n",
    "print('\\n')\n",
    "\n",
    "print('Number of cases per Type')\n",
    "for typ in annotated['Type'].unique():\n",
    "    print(typ + ': ' + str(annotated[annotated['Type'] == typ]['Type'].count()))\n",
    "\n",
    "    print('\\n')\n"
   ]
  }
 ],
 "metadata": {
  "kernelspec": {
   "display_name": "Python 3 (ipykernel)",
   "language": "python",
   "name": "python3"
  },
  "language_info": {
   "codemirror_mode": {
    "name": "ipython",
    "version": 3
   },
   "file_extension": ".py",
   "mimetype": "text/x-python",
   "name": "python",
   "nbconvert_exporter": "python",
   "pygments_lexer": "ipython3",
   "version": "3.9.12"
  }
 },
 "nbformat": 4,
 "nbformat_minor": 5
}
