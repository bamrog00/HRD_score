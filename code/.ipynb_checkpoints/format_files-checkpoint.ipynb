{
 "cells": [
  {
   "cell_type": "code",
   "execution_count": 1,
   "id": "dfe01c50",
   "metadata": {},
   "outputs": [],
   "source": [
    "import pandas as pd\n",
    "import glob\n",
    "import os"
   ]
  },
  {
   "cell_type": "code",
   "execution_count": 8,
   "id": "d7c2e9ad",
   "metadata": {
    "scrolled": true
   },
   "outputs": [
    {
     "name": "stdout",
     "output_type": "stream",
     "text": [
      "           SampleID Chromosome  Start_position  End_position  total_cn  A_cn  \\\n",
      "0    SamplePatient1       chr1           14574        952448         5     0   \n",
      "1    SamplePatient1       chr1          953394       1259701         3     0   \n",
      "2    SamplePatient1       chr1         1278085       4551743         2     0   \n",
      "3    SamplePatient1       chr1         4551885      14124232         2     0   \n",
      "4    SamplePatient1       chr1        14161231      31062374         3     1   \n",
      "..              ...        ...             ...           ...       ...   ...   \n",
      "218  SamplePatient1       chr9        25913101      38804932         4     2   \n",
      "219  SamplePatient1       chr9        43384386      50249270         3     1   \n",
      "220  SamplePatient1       chr9        50339428      55582227         2     0   \n",
      "221  SamplePatient1       chr9        55834247      91359251         4     0   \n",
      "222  SamplePatient1       chr9        91758380     137995588         6     1   \n",
      "\n",
      "     B_cn  ploidy  \n",
      "0       5     3.7  \n",
      "1       3     3.7  \n",
      "2       2     3.7  \n",
      "3       2     3.7  \n",
      "4       2     3.7  \n",
      "..    ...     ...  \n",
      "218     2     3.7  \n",
      "219     2     3.7  \n",
      "220     2     3.7  \n",
      "221     4     3.7  \n",
      "222     5     3.7  \n",
      "\n",
      "[223 rows x 8 columns]\n"
     ]
    }
   ],
   "source": [
    "example = pd.read_csv('packages/scarHRD-master/examples/test2.txt', sep='\\t', header = 0)\n",
    "print(example)"
   ]
  },
  {
   "cell_type": "code",
   "execution_count": 2,
   "id": "fedcc4af",
   "metadata": {},
   "outputs": [],
   "source": [
    "path_to_files = '../data/allele_specific_cnv/allele_cnv_txt/'\n",
    "path_to_formated_folder = '../data/allele_specific_cnv/formatted_asc_files'"
   ]
  },
  {
   "cell_type": "code",
   "execution_count": 3,
   "id": "be4a6c89",
   "metadata": {},
   "outputs": [],
   "source": [
    "files = glob.glob('../data/allele_specific_cnv/allele_cnv_txt/*.seg.txt')\n",
    "files = [os.path.basename(file) for file in files]"
   ]
  },
  {
   "cell_type": "code",
   "execution_count": 4,
   "id": "463f6380",
   "metadata": {},
   "outputs": [],
   "source": [
    "# Check if a formatted folder exist, if not create it\n",
    "if not os.path.exists(path_to_formated_folder):\n",
    "    os.mkdir(path_to_formated_folder)"
   ]
  },
  {
   "cell_type": "code",
   "execution_count": 5,
   "id": "2497c0fa",
   "metadata": {},
   "outputs": [
    {
     "name": "stdout",
     "output_type": "stream",
     "text": [
      "0 files are formatted\n",
      "500 files are formatted\n",
      "1000 files are formatted\n",
      "1500 files are formatted\n",
      "2000 files are formatted\n",
      "2500 files are formatted\n",
      "3000 files are formatted\n",
      "3500 files are formatted\n",
      "4000 files are formatted\n",
      "4500 files are formatted\n",
      "5000 files are formatted\n",
      "5500 files are formatted\n",
      "6000 files are formatted\n",
      "6500 files are formatted\n",
      "7000 files are formatted\n",
      "7500 files are formatted\n",
      "8000 files are formatted\n",
      "8500 files are formatted\n",
      "9000 files are formatted\n",
      "9500 files are formatted\n",
      "10000 files are formatted\n",
      "10500 files are formatted\n",
      "11000 files are formatted\n",
      "11500 files are formatted\n"
     ]
    }
   ],
   "source": [
    "for i,file in enumerate(files):\n",
    "    df = pd.read_csv(path_to_files+file, sep='\\t', header = 0)\n",
    "    #df['ploidy'] = \"\"\n",
    "    df['ploidy'] = 3.7\n",
    "    df.to_csv(path_to_formated_folder+'/'+file, header = True, sep = '\\t', index = None)\n",
    "    if i%500 == 0:\n",
    "        print(str(i) + ' files are formatted')"
   ]
  }
 ],
 "metadata": {
  "kernelspec": {
   "display_name": "Python 3 (ipykernel)",
   "language": "python",
   "name": "python3"
  },
  "language_info": {
   "codemirror_mode": {
    "name": "ipython",
    "version": 3
   },
   "file_extension": ".py",
   "mimetype": "text/x-python",
   "name": "python",
   "nbconvert_exporter": "python",
   "pygments_lexer": "ipython3",
   "version": "3.9.12"
  }
 },
 "nbformat": 4,
 "nbformat_minor": 5
}
