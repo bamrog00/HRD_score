{
 "cells": [
  {
   "cell_type": "code",
   "execution_count": 1,
   "id": "394c750c",
   "metadata": {},
   "outputs": [],
   "source": [
    "import pandas as pd\n",
    "import os\n",
    "import glob\n",
    "import numpy as np"
   ]
  },
  {
   "cell_type": "code",
   "execution_count": 3,
   "id": "d934fa15",
   "metadata": {},
   "outputs": [],
   "source": [
    "HRD_scores = pd.read_csv('../data/HRD_scores_pan_cancer_annotated_v2.csv', sep=',', header = 0)"
   ]
  },
  {
   "cell_type": "code",
   "execution_count": 4,
   "id": "2178e9d2",
   "metadata": {},
   "outputs": [],
   "source": [
    "primary = HRD_scores[HRD_scores['Type'] == 'Primary']"
   ]
  },
  {
   "cell_type": "code",
   "execution_count": 17,
   "id": "39b55520",
   "metadata": {},
   "outputs": [],
   "source": [
    "current_OV = primary[primary['Project ID'] == 'TCGA-OV']"
   ]
  },
  {
   "cell_type": "code",
   "execution_count": 19,
   "id": "632b4997",
   "metadata": {
    "scrolled": true
   },
   "outputs": [
    {
     "name": "stderr",
     "output_type": "stream",
     "text": [
      "/tmp/ipykernel_87560/1166452667.py:1: SettingWithCopyWarning: \n",
      "A value is trying to be set on a copy of a slice from a DataFrame.\n",
      "Try using .loc[row_indexer,col_indexer] = value instead\n",
      "\n",
      "See the caveats in the documentation: https://pandas.pydata.org/pandas-docs/stable/user_guide/indexing.html#returning-a-view-versus-a-copy\n",
      "  current_OV['smallSampleID'] = current_OV['Sample ID'].str[:-1]\n"
     ]
    }
   ],
   "source": [
    "current_OV['smallSampleID'] = current_OV['Sample ID'].str[:-1]"
   ]
  },
  {
   "cell_type": "code",
   "execution_count": 21,
   "id": "8688c146",
   "metadata": {},
   "outputs": [],
   "source": [
    "def checkMatches(list1,list2):\n",
    "    set1 = set(list1)\n",
    "    set2 = set(list2)\n",
    "    \n",
    "    matching = list(set1.intersection(set2))\n",
    "    not_matching = list(set1.symmetric_difference(set2))\n",
    "\n",
    "    return matching, not_matching"
   ]
  },
  {
   "cell_type": "code",
   "execution_count": 34,
   "id": "b8e8944b",
   "metadata": {
    "scrolled": true
   },
   "outputs": [],
   "source": [
    "publication_data = pd.read_csv('../data/ov_tcga_pub_clinical_data.tsv', sep='\\t', header = 0)\n",
    "second_data = pd.read_csv('../data/ov_tcga_pan_can_atlas_2018_clinical_data.tsv', sep='\\t', header = 0)"
   ]
  },
  {
   "cell_type": "code",
   "execution_count": 46,
   "id": "9259cdc3",
   "metadata": {},
   "outputs": [],
   "source": [
    "mut_kras = pd.read_csv('../data/mutations_kras_mut_hgsoc.txt', sep='\\t', header = 0)\n",
    "mut_pan_cancer = pd.read_csv('../data/mutations_pan_cancer.txt', sep='\\t', header = 0)"
   ]
  },
  {
   "cell_type": "code",
   "execution_count": 39,
   "id": "9c969878",
   "metadata": {},
   "outputs": [
    {
     "data": {
      "text/html": [
       "<div>\n",
       "<style scoped>\n",
       "    .dataframe tbody tr th:only-of-type {\n",
       "        vertical-align: middle;\n",
       "    }\n",
       "\n",
       "    .dataframe tbody tr th {\n",
       "        vertical-align: top;\n",
       "    }\n",
       "\n",
       "    .dataframe thead th {\n",
       "        text-align: right;\n",
       "    }\n",
       "</style>\n",
       "<table border=\"1\" class=\"dataframe\">\n",
       "  <thead>\n",
       "    <tr style=\"text-align: right;\">\n",
       "      <th></th>\n",
       "      <th>STUDY_ID</th>\n",
       "      <th>SAMPLE_ID</th>\n",
       "      <th>KRAS</th>\n",
       "    </tr>\n",
       "  </thead>\n",
       "  <tbody>\n",
       "    <tr>\n",
       "      <th>0</th>\n",
       "      <td>ov_tcga_pub</td>\n",
       "      <td>TCGA-13-1510-01</td>\n",
       "      <td>WT</td>\n",
       "    </tr>\n",
       "    <tr>\n",
       "      <th>1</th>\n",
       "      <td>ov_tcga_pub</td>\n",
       "      <td>TCGA-13-1404-01</td>\n",
       "      <td>WT</td>\n",
       "    </tr>\n",
       "    <tr>\n",
       "      <th>2</th>\n",
       "      <td>ov_tcga_pub</td>\n",
       "      <td>TCGA-13-1506-01</td>\n",
       "      <td>WT</td>\n",
       "    </tr>\n",
       "    <tr>\n",
       "      <th>3</th>\n",
       "      <td>ov_tcga_pub</td>\n",
       "      <td>TCGA-23-1116-01</td>\n",
       "      <td>WT</td>\n",
       "    </tr>\n",
       "    <tr>\n",
       "      <th>4</th>\n",
       "      <td>ov_tcga_pub</td>\n",
       "      <td>TCGA-13-1505-01</td>\n",
       "      <td>WT</td>\n",
       "    </tr>\n",
       "    <tr>\n",
       "      <th>...</th>\n",
       "      <td>...</td>\n",
       "      <td>...</td>\n",
       "      <td>...</td>\n",
       "    </tr>\n",
       "    <tr>\n",
       "      <th>311</th>\n",
       "      <td>ov_tcga_pub</td>\n",
       "      <td>TCGA-59-2354-01</td>\n",
       "      <td>WT</td>\n",
       "    </tr>\n",
       "    <tr>\n",
       "      <th>312</th>\n",
       "      <td>ov_tcga_pub</td>\n",
       "      <td>TCGA-59-2351-01</td>\n",
       "      <td>WT</td>\n",
       "    </tr>\n",
       "    <tr>\n",
       "      <th>313</th>\n",
       "      <td>ov_tcga_pub</td>\n",
       "      <td>TCGA-59-2355-01</td>\n",
       "      <td>WT</td>\n",
       "    </tr>\n",
       "    <tr>\n",
       "      <th>314</th>\n",
       "      <td>ov_tcga_pub</td>\n",
       "      <td>TCGA-59-2352-01</td>\n",
       "      <td>WT</td>\n",
       "    </tr>\n",
       "    <tr>\n",
       "      <th>315</th>\n",
       "      <td>ov_tcga_pub</td>\n",
       "      <td>TCGA-57-1582-01</td>\n",
       "      <td>WT</td>\n",
       "    </tr>\n",
       "  </tbody>\n",
       "</table>\n",
       "<p>316 rows × 3 columns</p>\n",
       "</div>"
      ],
      "text/plain": [
       "        STUDY_ID        SAMPLE_ID KRAS\n",
       "0    ov_tcga_pub  TCGA-13-1510-01   WT\n",
       "1    ov_tcga_pub  TCGA-13-1404-01   WT\n",
       "2    ov_tcga_pub  TCGA-13-1506-01   WT\n",
       "3    ov_tcga_pub  TCGA-23-1116-01   WT\n",
       "4    ov_tcga_pub  TCGA-13-1505-01   WT\n",
       "..           ...              ...  ...\n",
       "311  ov_tcga_pub  TCGA-59-2354-01   WT\n",
       "312  ov_tcga_pub  TCGA-59-2351-01   WT\n",
       "313  ov_tcga_pub  TCGA-59-2355-01   WT\n",
       "314  ov_tcga_pub  TCGA-59-2352-01   WT\n",
       "315  ov_tcga_pub  TCGA-57-1582-01   WT\n",
       "\n",
       "[316 rows x 3 columns]"
      ]
     },
     "execution_count": 39,
     "metadata": {},
     "output_type": "execute_result"
    }
   ],
   "source": [
    "mut_kras"
   ]
  },
  {
   "cell_type": "code",
   "execution_count": 36,
   "id": "38242e28",
   "metadata": {},
   "outputs": [],
   "source": [
    "publi_list = list(publication_data['Sample ID'])\n",
    "list_2018 = list(second_data['Sample ID'])\n",
    "curr_list = list(current_OV['smallSampleID'])"
   ]
  },
  {
   "cell_type": "code",
   "execution_count": 63,
   "id": "dbe806d9",
   "metadata": {},
   "outputs": [
    {
     "name": "stdout",
     "output_type": "stream",
     "text": [
      "556\n",
      "489\n"
     ]
    }
   ],
   "source": [
    "print(len(curr_list))\n",
    "print(len(publi_list))"
   ]
  },
  {
   "cell_type": "code",
   "execution_count": 40,
   "id": "0666cbc0",
   "metadata": {},
   "outputs": [
    {
     "name": "stdout",
     "output_type": "stream",
     "text": [
      "472\n",
      "101\n"
     ]
    }
   ],
   "source": [
    "matching, not_matching = checkMatches(curr_list,publi_list)\n",
    "print(len(matching))\n",
    "print(len(not_matching))"
   ]
  },
  {
   "cell_type": "code",
   "execution_count": 51,
   "id": "741b1a21",
   "metadata": {},
   "outputs": [],
   "source": [
    "curr_list_filtered = [i for i in curr_list if i in not_matching]\n",
    "publi_list_filtered = [i for i in publi_list if i in not_matching]"
   ]
  },
  {
   "cell_type": "code",
   "execution_count": 55,
   "id": "68c65fd6",
   "metadata": {},
   "outputs": [
    {
     "name": "stdout",
     "output_type": "stream",
     "text": [
      "17\n",
      "84\n"
     ]
    }
   ],
   "source": [
    "print(len(publi_list_filtered))\n",
    "print(len(curr_list_filtered))"
   ]
  },
  {
   "cell_type": "code",
   "execution_count": 65,
   "id": "9c299e77",
   "metadata": {},
   "outputs": [
    {
     "name": "stdout",
     "output_type": "stream",
     "text": [
      "109    WT\n",
      "Name: KRAS, dtype: object\n",
      "71    WT\n",
      "Name: KRAS, dtype: object\n",
      "234    WT\n",
      "Name: KRAS, dtype: object\n",
      "235    WT\n",
      "Name: KRAS, dtype: object\n",
      "9    WT\n",
      "Name: KRAS, dtype: object\n",
      "Series([], Name: KRAS, dtype: object)\n",
      "74    WT\n",
      "Name: KRAS, dtype: object\n",
      "Series([], Name: KRAS, dtype: object)\n",
      "31    WT\n",
      "Name: KRAS, dtype: object\n",
      "340    WT\n",
      "Name: KRAS, dtype: object\n",
      "252    WT\n",
      "Name: KRAS, dtype: object\n",
      "288    WT\n",
      "Name: KRAS, dtype: object\n",
      "Series([], Name: KRAS, dtype: object)\n",
      "320    WT\n",
      "Name: KRAS, dtype: object\n",
      "258    WT\n",
      "Name: KRAS, dtype: object\n",
      "290    WT\n",
      "Name: KRAS, dtype: object\n",
      "339    WT\n",
      "Name: KRAS, dtype: object\n",
      "284    WT\n",
      "Name: KRAS, dtype: object\n",
      "1    WT\n",
      "Name: KRAS, dtype: object\n",
      "264    WT\n",
      "Name: KRAS, dtype: object\n",
      "257    WT\n",
      "Name: KRAS, dtype: object\n",
      "262    WT\n",
      "Name: KRAS, dtype: object\n",
      "Series([], Name: KRAS, dtype: object)\n",
      "254    WT\n",
      "Name: KRAS, dtype: object\n",
      "336    WT\n",
      "Name: KRAS, dtype: object\n",
      "232    WT\n",
      "Name: KRAS, dtype: object\n",
      "28    G12V\n",
      "Name: KRAS, dtype: object\n",
      "255    WT\n",
      "Name: KRAS, dtype: object\n",
      "75    WT\n",
      "Name: KRAS, dtype: object\n",
      "266    WT\n",
      "Name: KRAS, dtype: object\n",
      "267    WT\n",
      "Name: KRAS, dtype: object\n",
      "26    G12V\n",
      "Name: KRAS, dtype: object\n",
      "250    WT\n",
      "Name: KRAS, dtype: object\n",
      "77    WT\n",
      "Name: KRAS, dtype: object\n",
      "154    WT\n",
      "Name: KRAS, dtype: object\n",
      "321    WT\n",
      "Name: KRAS, dtype: object\n",
      "338    WT\n",
      "Name: KRAS, dtype: object\n",
      "Series([], Name: KRAS, dtype: object)\n",
      "248    WT\n",
      "Name: KRAS, dtype: object\n",
      "73    WT\n",
      "Name: KRAS, dtype: object\n",
      "12    WT\n",
      "Name: KRAS, dtype: object\n",
      "269    WT\n",
      "Name: KRAS, dtype: object\n",
      "233    WT\n",
      "Name: KRAS, dtype: object\n",
      "268    WT\n",
      "Name: KRAS, dtype: object\n",
      "Series([], Name: KRAS, dtype: object)\n",
      "38    WT\n",
      "Name: KRAS, dtype: object\n",
      "259    WT\n",
      "Name: KRAS, dtype: object\n",
      "334    WT\n",
      "Name: KRAS, dtype: object\n",
      "260    WT\n",
      "Name: KRAS, dtype: object\n",
      "272    WT\n",
      "Name: KRAS, dtype: object\n",
      "32    WT\n",
      "Name: KRAS, dtype: object\n",
      "76    WT\n",
      "Name: KRAS, dtype: object\n",
      "173    WT\n",
      "Name: KRAS, dtype: object\n",
      "265    WT\n",
      "Name: KRAS, dtype: object\n",
      "19    WT\n",
      "Name: KRAS, dtype: object\n",
      "263    WT\n",
      "Name: KRAS, dtype: object\n",
      "16    WT\n",
      "Name: KRAS, dtype: object\n",
      "346    WT\n",
      "Name: KRAS, dtype: object\n",
      "108    WT\n",
      "Name: KRAS, dtype: object\n",
      "389    WT\n",
      "Name: KRAS, dtype: object\n",
      "Series([], Name: KRAS, dtype: object)\n",
      "270    WT\n",
      "Name: KRAS, dtype: object\n",
      "253    WT\n",
      "Name: KRAS, dtype: object\n",
      "70    WT\n",
      "Name: KRAS, dtype: object\n",
      "286    WT\n",
      "Name: KRAS, dtype: object\n",
      "326    WT\n",
      "Name: KRAS, dtype: object\n",
      "231    WT\n",
      "Name: KRAS, dtype: object\n",
      "Series([], Name: KRAS, dtype: object)\n",
      "Series([], Name: KRAS, dtype: object)\n",
      "335    WT\n",
      "Name: KRAS, dtype: object\n",
      "276    WT\n",
      "Name: KRAS, dtype: object\n",
      "256    WT\n",
      "Name: KRAS, dtype: object\n",
      "110    WT\n",
      "Name: KRAS, dtype: object\n",
      "285    WT\n",
      "Name: KRAS, dtype: object\n",
      "249    WT\n",
      "Name: KRAS, dtype: object\n",
      "Series([], Name: KRAS, dtype: object)\n",
      "236    WT\n",
      "Name: KRAS, dtype: object\n",
      "Series([], Name: KRAS, dtype: object)\n",
      "Series([], Name: KRAS, dtype: object)\n",
      "337    WT\n",
      "Name: KRAS, dtype: object\n",
      "Series([], Name: KRAS, dtype: object)\n",
      "283    WT\n",
      "Name: KRAS, dtype: object\n",
      "301    WT\n",
      "Name: KRAS, dtype: object\n",
      "251    WT\n",
      "Name: KRAS, dtype: object\n"
     ]
    }
   ],
   "source": [
    "for id_ in curr_list_filtered:\n",
    "    print(mut_pan_cancer[mut_pan_cancer['SAMPLE_ID'] == id_]['KRAS'])"
   ]
  },
  {
   "cell_type": "code",
   "execution_count": 37,
   "id": "d3e3904b",
   "metadata": {},
   "outputs": [
    {
     "name": "stdout",
     "output_type": "stream",
     "text": [
      "552\n",
      "37\n"
     ]
    }
   ],
   "source": [
    "matching, not_matching = checkMatches(curr_list,list_2018)\n",
    "print(len(matching))\n",
    "print(len(not_matching))"
   ]
  },
  {
   "cell_type": "code",
   "execution_count": null,
   "id": "3d324312",
   "metadata": {},
   "outputs": [],
   "source": []
  }
 ],
 "metadata": {
  "kernelspec": {
   "display_name": "Python 3 (ipykernel)",
   "language": "python",
   "name": "python3"
  },
  "language_info": {
   "codemirror_mode": {
    "name": "ipython",
    "version": 3
   },
   "file_extension": ".py",
   "mimetype": "text/x-python",
   "name": "python",
   "nbconvert_exporter": "python",
   "pygments_lexer": "ipython3",
   "version": "3.9.12"
  }
 },
 "nbformat": 4,
 "nbformat_minor": 5
}
