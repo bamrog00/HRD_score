{
 "cells": [
  {
   "cell_type": "code",
   "execution_count": 1,
   "id": "bd99d581",
   "metadata": {},
   "outputs": [],
   "source": [
    "import pandas as pd\n",
    "import os\n",
    "import glob\n",
    "import numpy as np"
   ]
  },
  {
   "cell_type": "code",
   "execution_count": 2,
   "id": "5d067b40",
   "metadata": {},
   "outputs": [
    {
     "name": "stdout",
     "output_type": "stream",
     "text": [
      "Smaplesheet has already been created and therefore the clinical data as well\n"
     ]
    }
   ],
   "source": [
    "# First the sample_sheets and clinical data from the two batches need to be merged.\n",
    "# This will likely already be done\n",
    "\n",
    "path = '../data/metadata/'\n",
    "file = 'gdc_samplesheet.csv'\n",
    "\n",
    "if os.path.exists(path+file):\n",
    "    print('Smaplesheet has already been created and therefore the clinical data as well')\n",
    "    \n",
    "else:\n",
    "    batch_1_sheet = pd.read_csv('../data/metadata/batch1/gdc_sample_sheet.2023-02-21.tsv', sep='\\t', header = 0)\n",
    "    batch_2_sheet = pd.read_csv('../data/metadata/batch2/gdc_sample_sheet.2023-02-21.tsv', sep='\\t', header = 0)\n",
    "    batch_1_clinical = pd.read_csv('../data/metadata/batch1/clinical.tsv', sep='\\t', header = 0)\n",
    "    batch_2_clinical = pd.read_csv('../data/metadata/batch2/clinical.tsv', sep='\\t', header = 0)\n",
    "    \n",
    "    sample_sheet = pd.concat([batch_1_sheet,batch_2_sheet])\n",
    "    clinical = pd.concat([batch_1_clinical,batch_2_clinical])\n",
    "    \n",
    "    sample_sheet.to_csv(path+file, header = True, sep = ',', index = None)\n",
    "    clinical.to_csv(path+'clinical.csv', header = True, sep = ',', index = None)\n",
    "    \n",
    "    #Check if everthing is there (from missing_files we know there should be 11582 files in case for the sample sheet)\n",
    "    print(len(batch_1_sheet)+len(batch_2_sheet))\n",
    "    print(len(sample_sheet))\n",
    "    print(len(batch_1_clinical)+len(batch_2_clinical))\n",
    "    print(len(clinical))"
   ]
  },
  {
   "cell_type": "code",
   "execution_count": 3,
   "id": "65b78753",
   "metadata": {},
   "outputs": [],
   "source": [
    "# Update code table from TCGA, adding TARGET codes and Project ID\n",
    "# This also might already be done\n",
    "code_table = pd.read_csv('../data/TCGA_code_tables/diseaseStudy.tsv', sep='\\t', header = 0)\n",
    "code_table['Project ID'] = 'TCGA-'+ code_table['Study Abbreviation']\n",
    "\n",
    "\n",
    "target_rows = pd.DataFrame({'Study Abbreviation': ['ALL-P2','AML','CCSK','OS'],\n",
    "                            'Study Name': ['Acute Lymphoblastic Leukemia - Phase II','Acute Myeloid Leukemia','Clear Cell Sarcoma of the Kidney','Osteosarcoma'],\n",
    "                            'Project ID': ['TARGET-ALL-P2','TARGET-AML','TARGET-CCSK','TARGET-OS']})\n",
    "code_table = pd.concat([code_table, target_rows]).reset_index(drop=True)\n",
    "code_table.to_csv('../data/TCGA_code_tables/diseaseStudy_updated.csv', sep=',', header = True, index = None)"
   ]
  },
  {
   "cell_type": "code",
   "execution_count": 4,
   "id": "0e0d5c0d",
   "metadata": {},
   "outputs": [],
   "source": [
    "# Dictionaries used for mapping sample types\n",
    "# We broke down the sample types to: Primary, Recurrent, Metastatic\n",
    "sampletype_mapping = {\n",
    "    'Additional - New Primary, Blood Derived Normal': 'Additional - New Primary, Blood Derived Normal',\n",
    "    'Blood Derived Normal, Additional - New Primary': 'Additional - New Primary, Blood Derived Normal',\n",
    "    'Blood Derived Normal, Metastatic': 'Metastatic, Blood Derived Normal',\n",
    "    'Blood Derived Normal, Primary Blood Derived Cancer - Bone Marrow': 'Primary Blood Derived Cancer - Bone Marrow, Blood Derived Normal',\n",
    "    'Blood Derived Normal, Primary Blood Derived Cancer - Peripheral Blood': 'Primary Blood Derived Cancer - Peripheral Blood, Blood Derived Normal',\n",
    "    'Blood Derived Normal, Primary Tumor': 'Primary Tumor, Blood Derived Normal',\n",
    "    'Blood Derived Normal, Recurrent Blood Derived Cancer - Bone Marrow': 'Recurrent Blood Derived Cancer - Bone Marrow, Blood Derived Normal',\n",
    "    'Blood Derived Normal, Recurrent Tumor': 'Recurrent Tumor, Blood Derived Normal',\n",
    "    'Bone Marrow Normal, Primary Blood Derived Cancer - Bone Marrow': 'Primary Blood Derived Cancer - Bone Marrow, Bone Marrow Normal',\n",
    "    'Bone Marrow Normal, Primary Blood Derived Cancer - Peripheral Blood': 'Primary Blood Derived Cancer - Peripheral Blood, Bone Marrow Normal',\n",
    "    'Bone Marrow Normal, Primary Tumor': 'Primary Tumor, Bone Marrow Normal',\n",
    "    'Bone Marrow Normal, Recurrent Blood Derived Cancer - Bone Marrow': 'Recurrent Blood Derived Cancer - Bone Marrow, Bone Marrow Normal',\n",
    "    'Buccal Cell Normal, Primary Tumor':'Primary Tumor, Buccal Cell Normal',\n",
    "    'Metastatic, Blood Derived Normal': 'Metastatic, Blood Derived Normal',\n",
    "    'Metastatic, Solid Tissue Normal': 'Metastatic, Solid Tissue Normal',\n",
    "    'Primary Blood Derived Cancer - Bone Marrow, Blood Derived Normal': 'Primary Blood Derived Cancer - Bone Marrow, Blood Derived Normal',\n",
    "    'Primary Blood Derived Cancer - Bone Marrow, Bone Marrow Normal': 'Primary Blood Derived Cancer - Bone Marrow, Bone Marrow Normal',\n",
    "    'Primary Blood Derived Cancer - Peripheral Blood, Blood Derived Normal': 'Primary Blood Derived Cancer - Peripheral Blood, Blood Derived Normal',\n",
    "    'Primary Blood Derived Cancer - Peripheral Blood, Bone Marrow Normal': 'Primary Blood Derived Cancer - Peripheral Blood, Bone Marrow Normal',\n",
    "    'Primary Blood Derived Cancer - Peripheral Blood, Solid Tissue Normal' : 'Primary Blood Derived Cancer - Peripheral Blood, Solid Tissue Normal',\n",
    "    'Primary Tumor, Blood Derived Normal' : 'Primary Tumor, Blood Derived Normal',\n",
    "    'Primary Tumor, Bone Marrow Normal': 'Primary Tumor, Bone Marrow Normal',\n",
    "    'Primary Tumor, Buccal Cell Normal': 'Primary Tumor, Buccal Cell Normal',\n",
    "    'Primary Tumor, Solid Tissue Normal': 'Primary Tumor, Solid Tissue Normal',\n",
    "    'Recurrent Blood Derived Cancer - Bone Marrow, Bone Marrow Normal': 'Recurrent Blood Derived Cancer - Bone Marrow, Bone Marrow Normal',\n",
    "    'Recurrent Tumor, Blood Derived Normal': 'Recurrent Tumor, Blood Derived Normal',\n",
    "    'Recurrent Tumor, Solid Tissue Normal':'Recurrent Tumor, Solid Tissue Normal',\n",
    "    'Solid Tissue Normal, Metastatic': 'Metastatic, Solid Tissue Normal',\n",
    "    'Solid Tissue Normal, Primary Blood Derived Cancer - Peripheral Blood': 'Primary Blood Derived Cancer - Peripheral Blood, Solid Tissue Normal',\n",
    "    'Solid Tissue Normal, Primary Tumor': 'Primary Tumor, Solid Tissue Normal',\n",
    "    'Solid Tissue Normal, Recurrent Tumor': 'Recurrent Tumor, Solid Tissue Normal' \n",
    "}\n",
    "\n",
    "type_mapping = {\n",
    "    'Additional - New Primary, Blood Derived Normal' : 'Primary',\n",
    "    'Metastatic, Blood Derived Normal': 'Metastatic',\n",
    "    'Metastatic, Solid Tissue Normal' : 'Metastatic',\n",
    "    'Primary Blood Derived Cancer - Bone Marrow, Blood Derived Normal': 'Primary',\n",
    "    'Primary Blood Derived Cancer - Bone Marrow, Bone Marrow Normal' : 'Primary',\n",
    "    'Primary Blood Derived Cancer - Peripheral Blood, Blood Derived Normal' : 'Primary',\n",
    "    'Primary Blood Derived Cancer - Peripheral Blood, Bone Marrow Normal' : 'Primary',\n",
    "    'Primary Blood Derived Cancer - Peripheral Blood, Solid Tissue Normal' : 'Primary',\n",
    "    'Primary Tumor, Blood Derived Normal' : 'Primary',\n",
    "    'Primary Tumor, Bone Marrow Normal': 'Primary',\n",
    "    'Primary Tumor, Buccal Cell Normal': 'Primary',\n",
    "    'Primary Tumor, Solid Tissue Normal': 'Primary',\n",
    "    'Recurrent Blood Derived Cancer - Bone Marrow, Bone Marrow Normal': 'Recurrent',\n",
    "    'Recurrent Tumor, Blood Derived Normal': 'Recurrent',\n",
    "    'Recurrent Tumor, Solid Tissue Normal':'Recurrent',\n",
    "    'Recurrent Blood Derived Cancer - Bone Marrow, Blood Derived Normal': 'Recurrent'\n",
    "}"
   ]
  },
  {
   "cell_type": "code",
   "execution_count": 7,
   "id": "ba83903b",
   "metadata": {},
   "outputs": [
    {
     "name": "stderr",
     "output_type": "stream",
     "text": [
      "/tmp/ipykernel_84424/3141092716.py:2: DtypeWarning: Columns (3,48) have mixed types. Specify dtype option on import or set low_memory=False.\n",
      "  clinical =  pd.read_csv('../data/metadata/clinical.csv', sep=',', header = 0)\n"
     ]
    }
   ],
   "source": [
    "# Loading results and metadata\n",
    "sample_sheet = pd.read_csv('../data/metadata/gdc_samplesheet.csv', sep=',', header = 0)\n",
    "clinical =  pd.read_csv('../data/metadata/clinical.csv', sep=',', header = 0)\n",
    "HRD_scores = pd.read_csv('../data/HRD_scores_pan_cancer.csv', sep=',', header = 0)\n",
    "\n",
    "# Add column, case_id from the file names\n",
    "file_names = HRD_scores['File Name']\n",
    "case_ids = [s.split('.')[1] for s in file_names]\n",
    "HRD_scores.insert(1, \"case_id\", case_ids)\n",
    "\n",
    "# Split up Case ID from Sample Sheet and add it as case_submitter_id\n",
    "case_ids_double = sample_sheet['Case ID']\n",
    "case_ids = [s.split(',')[0] for s in case_ids_double]\n",
    "sample_sheet = sample_sheet.assign(case_submitter_id=case_ids)\n",
    "\n",
    "# Merge HRD scores with sample file\n",
    "score_sample = pd.merge(HRD_scores, sample_sheet, on = 'File Name')\n",
    "\n",
    "# Preparing clincial data (drop dublicates, dublicates are due to different treatment of a patient)\n",
    "clinical.rename(columns={'project_id':'Project ID'}, inplace=True)\n",
    "pid_primarydiag = clinical[['case_submitter_id','Project ID','primary_diagnosis']]\n",
    "\n",
    "pid_primarydiag_unique = pid_primarydiag.drop_duplicates(\n",
    "  subset = ['case_submitter_id','Project ID','primary_diagnosis'],\n",
    "  keep = 'last').reset_index(drop = True)\n",
    "\n",
    "\n",
    "# Merge with clinical (some of the cases (26) do not have clinical data, but it is still merged)\n",
    "scsa_clinical = pd.merge(score_sample, pid_primarydiag_unique, how = 'left', on = ['case_submitter_id','Project ID'])\n",
    "\n",
    "\n",
    "# Adding new columns for the types (ProjectID_Type (combination of ID and type, Type (Primary, Recurrent, Metastatic))\n",
    "scsa_clinical['sampleType_correct'] = \"\"\n",
    "\n",
    "for sampletype in sampletype_mapping:\n",
    "    scsa_clinical.loc[scsa_clinical['Sample Type'] == sampletype,'sampleType_correct'] = sampletype_mapping[sampletype]\n",
    "\n",
    "scsa_clinical['Type'] = \"\"\n",
    "\n",
    "for type_ in type_mapping:\n",
    "    scsa_clinical.loc[scsa_clinical['sampleType_correct'] == type_,'Type'] = type_mapping[type_]\n",
    "\n",
    "scsa_clinical['PID_Type'] = scsa_clinical['Project ID'] + ' ' + scsa_clinical['Type']\n",
    "\n",
    "# Add the full names of the cancers (aka Study Name)\n",
    "code_table = pd.read_csv('../data/TCGA_code_tables/diseaseStudy_updated.csv', sep=',', header = 0)\n",
    "code_table = code_table[['Study Name','Project ID']]\n",
    "\n",
    "scsa_clinical = pd.merge(scsa_clinical, code_table, on = ['Project ID'])\n",
    "\n",
    "\n",
    "\n",
    "# Save all and only primary results\n",
    "scsa_clinical.to_csv('../data/HRD_scores_pan_cancer_annotated_typecorrect.csv', sep=',', header = True, index = None)\n",
    "\n",
    "scsa_clinical_primary = scsa_clinical.loc[scsa_clinical['Type'] == 'Primary']\n",
    "scsa_clinical_primary.to_csv('../data/HRD_scores_pan_cancer_annotated_primary.csv', sep=',', header = True, index = None)\n",
    "\n",
    "\n"
   ]
  },
  {
   "cell_type": "markdown",
   "id": "a43d7194",
   "metadata": {},
   "source": [
    "## Tests\n",
    "Test if the data is complete ect.\n",
    "\n",
    "Does not has to be used, was to check during coding\n",
    "\n",
    "Might get deleted"
   ]
  },
  {
   "cell_type": "code",
   "execution_count": null,
   "id": "84810244",
   "metadata": {},
   "outputs": [],
   "source": [
    "# Checks \n",
    "\n",
    "\n",
    "# print(pid_primarydiag[['case_submitter_id','Project ID']].value_counts(ascending = True))\n",
    "# print(pid_primarydiag_unique[['case_submitter_id','Project ID','primary_diagnosis']].value_counts(ascending = True))\n",
    "\n",
    "# print(sample_sheet['case_submitter_id'].isin(clinical['case_submitter_id']).value_counts())\n",
    "# print(HRD_scores['case_id'].isin(clinical['case_id']).value_counts())\n",
    "# print(HRD_scores['case_id'])\n",
    "# print(HRD_scores[HRD_scores['case_id'].duplicated() == True])\n",
    "# print(clinical[clinical['case_id'].duplicated() == True])\n",
    "\n",
    "\n",
    "# df_missing = HRD_scores[~HRD_scores['File Name'].isin(scsa_clinical['File Name'])]\n",
    "# print(len(df_missing))\n",
    "# df_missing = score_sample[~score_sample['File Name'].isin(scsa_clinical['File Name'])]\n",
    "# print(len(HRD_scores))\n",
    "# print(len(sample_sheet))\n",
    "# print(len(clinical))\n",
    "# print(len(df_missing))\n",
    "# print(df_missing['File Name'])\n",
    "# df_missing.to_csv('../data/missing_subtype_files.csv', sep=',', header = True, index = None)\n",
    "\n",
    "# print(sample_sheet['case_submitter_id'].isin(clinical['case_submitter_id']).value_counts())\n"
   ]
  },
  {
   "cell_type": "code",
   "execution_count": 12,
   "id": "ad002ffc",
   "metadata": {},
   "outputs": [],
   "source": [
    "files = glob.glob('../data/allele_specific_cnv/allele_cnv_txt/*.seg.txt')\n",
    "files = [os.path.basename(file) for file in files]\n",
    "projects = [s.split('.')[0] for s in files]\n",
    "print(len(projects))\n",
    "sum_ = 0\n",
    "for project in np.unique(projects):\n",
    "    print(project + ': ' + str(projects.count(project)))\n",
    "    sum_ = sum_ +  projects.count(project)\n",
    "print(sum_)"
   ]
  },
  {
   "cell_type": "code",
   "execution_count": 15,
   "id": "b6552268",
   "metadata": {
    "scrolled": true
   },
   "outputs": [
    {
     "name": "stdout",
     "output_type": "stream",
     "text": [
      "Additional - New Primary, Blood Derived Normal: 5\n",
      "Blood Derived Normal, Additional - New Primary: 5\n",
      "Blood Derived Normal, Metastatic: 191\n",
      "Blood Derived Normal, Primary Blood Derived Cancer - Bone Marrow: 114\n",
      "Blood Derived Normal, Primary Blood Derived Cancer - Peripheral Blood: 9\n",
      "Blood Derived Normal, Primary Tumor: 4445\n",
      "Blood Derived Normal, Recurrent Blood Derived Cancer - Bone Marrow: 3\n",
      "Blood Derived Normal, Recurrent Tumor: 32\n",
      "Bone Marrow Normal, Primary Blood Derived Cancer - Bone Marrow: 59\n",
      "Bone Marrow Normal, Primary Blood Derived Cancer - Peripheral Blood: 5\n",
      "Bone Marrow Normal, Primary Tumor: 3\n",
      "Bone Marrow Normal, Recurrent Blood Derived Cancer - Bone Marrow: 7\n",
      "Buccal Cell Normal, Primary Tumor: 1\n",
      "Metastatic, Blood Derived Normal: 195\n",
      "Metastatic, Solid Tissue Normal: 2\n",
      "Primary Blood Derived Cancer - Bone Marrow, Blood Derived Normal: 101\n",
      "Primary Blood Derived Cancer - Bone Marrow, Bone Marrow Normal: 54\n",
      "Primary Blood Derived Cancer - Peripheral Blood, Blood Derived Normal: 11\n",
      "Primary Blood Derived Cancer - Peripheral Blood, Bone Marrow Normal: 8\n",
      "Primary Blood Derived Cancer - Peripheral Blood, Solid Tissue Normal: 87\n",
      "Primary Tumor, Blood Derived Normal: 4534\n",
      "Primary Tumor, Bone Marrow Normal: 1\n",
      "Primary Tumor, Buccal Cell Normal: 3\n",
      "Primary Tumor, Solid Tissue Normal: 771\n",
      "Recurrent Blood Derived Cancer - Bone Marrow, Bone Marrow Normal: 15\n",
      "Recurrent Tumor, Blood Derived Normal: 28\n",
      "Recurrent Tumor, Solid Tissue Normal: 6\n",
      "Solid Tissue Normal, Metastatic: 3\n",
      "Solid Tissue Normal, Primary Blood Derived Cancer - Peripheral Blood: 103\n",
      "Solid Tissue Normal, Primary Tumor: 780\n",
      "Solid Tissue Normal, Recurrent Tumor: 1\n",
      "Metastatic types: 2\n"
     ]
    }
   ],
   "source": [
    "sample_type = list(sample_sheet['Sample Type'])\n",
    "sum_ = 0\n",
    "sample_list = list()\n",
    "for type_ in np.unique(sample_type):\n",
    "    words = type_.split(',')\n",
    "    sample_list.append(type_)\n",
    "    if 'Metastatic' in words:\n",
    "        sum_ = sum_ + 1\n",
    "    print(type_ + ': ' + str(sample_type.count(type_)))\n",
    "print('Metastatic types: '+str(sum_))"
   ]
  },
  {
   "cell_type": "code",
   "execution_count": 2,
   "id": "c9908db6",
   "metadata": {},
   "outputs": [
    {
     "name": "stdout",
     "output_type": "stream",
     "text": [
      "361\n"
     ]
    }
   ],
   "source": [
    "gdc_cases = [1067,561,536,517,517,510,509,507,498,493,486,466,454,436,391,369,299,293,284,248,190,183,181,167,162,150,123,90,86,81,80,73,66,53,48,36,11]\n",
    "files_numbers = [1084,589,545,521,574,542,527,544,505,514,491,468,509,436,396,373,301,294,298,254,190,184,182,172,167,156,123,90,86,81,80,92,66,53,48,36,11]\n",
    "diff = list()\n",
    "for i,num in enumerate(gdc_cases):\n",
    "    diff.append(abs(num-files_numbers[i]))\n",
    "print(sum(diff))"
   ]
  }
 ],
 "metadata": {
  "kernelspec": {
   "display_name": "Python 3 (ipykernel)",
   "language": "python",
   "name": "python3"
  },
  "language_info": {
   "codemirror_mode": {
    "name": "ipython",
    "version": 3
   },
   "file_extension": ".py",
   "mimetype": "text/x-python",
   "name": "python",
   "nbconvert_exporter": "python",
   "pygments_lexer": "ipython3",
   "version": "3.9.12"
  }
 },
 "nbformat": 4,
 "nbformat_minor": 5
}
